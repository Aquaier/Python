{
  "cells": [
    {
      "cell_type": "markdown",
      "metadata": {
        "id": "oXBSu-xlOclU"
      },
      "source": [
        "#  Algorytmy i programowanie,  2022-2023\n",
        "\n",
        "**Reguły**\n",
        "\n",
        "* prace są **samodzielne**, można korzystać ze swoich własnych kodów, wykładu, ćwiczeń, książek, manuali, dokumentacji, kursów, itp…\n",
        "* **Nie wolno korzystać z cudzych kodów na zasadzie copy-paste lub pomocy innych osób. Taki sam kod (zmiana nazwy zmiennej nie zmienia kodu) powoduje wystawienie oceny 0 punktów za kolokwium u wszystkich, którzy maja podobny kod.**\n",
        "\n",
        "\n",
        "   **Pliki nadesłane po terminie nie będą sprawdzane!**\n",
        "\n",
        "Możesz uzyskać 100 punktów. Kolokwium jest zaliczone od 51 punktów."
      ]
    },
    {
      "cell_type": "markdown",
      "metadata": {
        "id": "34LRE0lUm6un"
      },
      "source": [
        "### Zadanie 1 [30]\n",
        "Napisz klasę `Konwerter`, która będzie oferowała następującą funkcjonalność:\n",
        "\n",
        "-  metoda `init` (wykorzystująca settery) wczytuje liczbę i system w którym ona jest podana[3]\n",
        "- `gettery` zwracające liczbę i system [2]\n",
        "- `settery`, sprawdzające\n",
        "  - czy argument oznaczający system jest zgodny z oczekiwaniami pod względem typu  [2]\n",
        "  - czy podany argument jest liczbą [2] zgodną z wymaganiami  systemu [2]\n",
        "- funkcję `konwertuj_na`, która dokonuje konwersji na sytem będący argumentem tej funkcji [15]\n",
        "- metody `str` i `repr` [4]\n",
        "\n",
        "Zaprezentuj funkcjonalność klasy - przeprowadź  testy\n",
        "Konwerter(16, \"A\") i Konwerter(16, \"G\"), konwertuj_na(7) testy metod `str` i `repr` [5].\n"
      ]
    },
    {
      "cell_type": "code",
      "execution_count": null,
      "metadata": {
        "id": "seNbhQIVtxm_"
      },
      "outputs": [],
      "source": [
        "class Konwerter(object):\n",
        "    charset = \"0123456789ABCDEFGHIJKLMNOPQRSTUVWXYZ\"\n",
        "    system = int\n",
        "    value = str\n",
        "\n",
        "    def __init__(self, system: int, value: (str, int)):\n",
        "        self.set(system, value)\n",
        "\n",
        "    def decode_digit(self, digit: str):\n",
        "        return self.charset.index(digit)\n",
        "\n",
        "    def decode(self):\n",
        "        decoded = 0\n",
        "        for char in self.value:\n",
        "            decoded *= self.system\n",
        "            decoded += self.decode_digit(char)\n",
        "        return decoded\n",
        "\n",
        "    def encode(self, decoded, new_system):\n",
        "        self.value = \"\"\n",
        "        self.system = new_system\n",
        "        while decoded > 0:\n",
        "            rem = decoded % new_system\n",
        "            decoded = decoded // new_system\n",
        "            self.value = self.encode_digit(rem) + self.value\n",
        "\n",
        "    def encode_digit(self, value: int):\n",
        "        return self.charset[value]\n",
        "\n",
        "    def set(self, system: int, value: (str, int)):\n",
        "        if type(value) == int:\n",
        "            assert system <= 10, \"System nie może być większy niż 10, gdy typ wartosci to int.\"\n",
        "            value = str(value)\n",
        "        assert all(self.decode_digit(char) < system for char in value), \"Wartosc posiada znaki z poza systemu\"\n",
        "        self.system = system\n",
        "        self.value = value\n",
        "\n",
        "    def get(self):\n",
        "        return self.system, self.value\n",
        "\n",
        "    def konwertuj_na(self, target_system: int):\n",
        "        self.encode(self.decode(), target_system)"
      ]
    },
    {
      "cell_type": "code",
      "execution_count": null,
      "metadata": {
        "colab": {
          "base_uri": "https://localhost:8080/",
          "height": 333
        },
        "id": "szy_1gOZwyx5",
        "outputId": "dfb38e70-45fc-4c7e-c71d-ac72a861cb9c"
      },
      "outputs": [
        {
          "ename": "AssertionError",
          "evalue": "ignored",
          "output_type": "error",
          "traceback": [
            "\u001b[0;31m---------------------------------------------------------------------------\u001b[0m",
            "\u001b[0;31mAssertionError\u001b[0m                            Traceback (most recent call last)",
            "\u001b[0;32m<ipython-input-34-3847cc8fa122>\u001b[0m in \u001b[0;36m<cell line: 1>\u001b[0;34m()\u001b[0m\n\u001b[0;32m----> 1\u001b[0;31m \u001b[0mk\u001b[0m \u001b[0;34m=\u001b[0m \u001b[0mKonwerter\u001b[0m\u001b[0;34m(\u001b[0m\u001b[0;36m16\u001b[0m\u001b[0;34m,\u001b[0m \u001b[0;34m\"J\"\u001b[0m\u001b[0;34m)\u001b[0m\u001b[0;34m\u001b[0m\u001b[0;34m\u001b[0m\u001b[0m\n\u001b[0m",
            "\u001b[0;32m<ipython-input-33-fad7b57af36e>\u001b[0m in \u001b[0;36m__init__\u001b[0;34m(self, system, value)\u001b[0m\n\u001b[1;32m      5\u001b[0m \u001b[0;34m\u001b[0m\u001b[0m\n\u001b[1;32m      6\u001b[0m     \u001b[0;32mdef\u001b[0m \u001b[0m__init__\u001b[0m\u001b[0;34m(\u001b[0m\u001b[0mself\u001b[0m\u001b[0;34m,\u001b[0m \u001b[0msystem\u001b[0m\u001b[0;34m:\u001b[0m \u001b[0mint\u001b[0m\u001b[0;34m,\u001b[0m \u001b[0mvalue\u001b[0m\u001b[0;34m:\u001b[0m \u001b[0;34m(\u001b[0m\u001b[0mstr\u001b[0m\u001b[0;34m,\u001b[0m \u001b[0mint\u001b[0m\u001b[0;34m)\u001b[0m\u001b[0;34m)\u001b[0m\u001b[0;34m:\u001b[0m\u001b[0;34m\u001b[0m\u001b[0;34m\u001b[0m\u001b[0m\n\u001b[0;32m----> 7\u001b[0;31m         \u001b[0mself\u001b[0m\u001b[0;34m.\u001b[0m\u001b[0mset\u001b[0m\u001b[0;34m(\u001b[0m\u001b[0msystem\u001b[0m\u001b[0;34m,\u001b[0m \u001b[0mvalue\u001b[0m\u001b[0;34m)\u001b[0m\u001b[0;34m\u001b[0m\u001b[0;34m\u001b[0m\u001b[0m\n\u001b[0m\u001b[1;32m      8\u001b[0m \u001b[0;34m\u001b[0m\u001b[0m\n\u001b[1;32m      9\u001b[0m     \u001b[0;32mdef\u001b[0m \u001b[0mdecode_digit\u001b[0m\u001b[0;34m(\u001b[0m\u001b[0mself\u001b[0m\u001b[0;34m,\u001b[0m \u001b[0mdigit\u001b[0m\u001b[0;34m:\u001b[0m \u001b[0mstr\u001b[0m\u001b[0;34m)\u001b[0m\u001b[0;34m:\u001b[0m\u001b[0;34m\u001b[0m\u001b[0;34m\u001b[0m\u001b[0m\n",
            "\u001b[0;32m<ipython-input-33-fad7b57af36e>\u001b[0m in \u001b[0;36mset\u001b[0;34m(self, system, value)\u001b[0m\n\u001b[1;32m     32\u001b[0m             \u001b[0;32massert\u001b[0m \u001b[0msystem\u001b[0m \u001b[0;34m<=\u001b[0m \u001b[0;36m10\u001b[0m\u001b[0;34m,\u001b[0m \u001b[0;34m\"System nie może być większy niż 10, gdy typ wartosci to int.\"\u001b[0m\u001b[0;34m\u001b[0m\u001b[0;34m\u001b[0m\u001b[0m\n\u001b[1;32m     33\u001b[0m             \u001b[0mvalue\u001b[0m \u001b[0;34m=\u001b[0m \u001b[0mstr\u001b[0m\u001b[0;34m(\u001b[0m\u001b[0mvalue\u001b[0m\u001b[0;34m)\u001b[0m\u001b[0;34m\u001b[0m\u001b[0;34m\u001b[0m\u001b[0m\n\u001b[0;32m---> 34\u001b[0;31m         \u001b[0;32massert\u001b[0m \u001b[0mall\u001b[0m\u001b[0;34m(\u001b[0m\u001b[0mself\u001b[0m\u001b[0;34m.\u001b[0m\u001b[0mdecode_digit\u001b[0m\u001b[0;34m(\u001b[0m\u001b[0mchar\u001b[0m\u001b[0;34m)\u001b[0m \u001b[0;34m<\u001b[0m \u001b[0msystem\u001b[0m \u001b[0;32mfor\u001b[0m \u001b[0mchar\u001b[0m \u001b[0;32min\u001b[0m \u001b[0mvalue\u001b[0m\u001b[0;34m)\u001b[0m\u001b[0;34m,\u001b[0m \u001b[0;34m\"Wartosc posiada znaki z poza systemu\"\u001b[0m\u001b[0;34m\u001b[0m\u001b[0;34m\u001b[0m\u001b[0m\n\u001b[0m\u001b[1;32m     35\u001b[0m         \u001b[0mself\u001b[0m\u001b[0;34m.\u001b[0m\u001b[0msystem\u001b[0m \u001b[0;34m=\u001b[0m \u001b[0msystem\u001b[0m\u001b[0;34m\u001b[0m\u001b[0;34m\u001b[0m\u001b[0m\n\u001b[1;32m     36\u001b[0m         \u001b[0mself\u001b[0m\u001b[0;34m.\u001b[0m\u001b[0mvalue\u001b[0m \u001b[0;34m=\u001b[0m \u001b[0mvalue\u001b[0m\u001b[0;34m\u001b[0m\u001b[0;34m\u001b[0m\u001b[0m\n",
            "\u001b[0;31mAssertionError\u001b[0m: Wartosc posiada znaki z poza systemu"
          ]
        }
      ],
      "source": [
        "k = Konwerter(16, \"J\")"
      ]
    },
    {
      "cell_type": "code",
      "execution_count": null,
      "metadata": {
        "id": "E6zxvqnUw0aY"
      },
      "outputs": [],
      "source": [
        "k.konwertuj_na(9)"
      ]
    },
    {
      "cell_type": "code",
      "execution_count": null,
      "metadata": {
        "colab": {
          "base_uri": "https://localhost:8080/"
        },
        "id": "tw-2Tjqdw27S",
        "outputId": "6378bf4c-bd64-4ac0-cdf3-04527ccaca13"
      },
      "outputs": [
        {
          "data": {
            "text/plain": [
              "(9, '11')"
            ]
          },
          "execution_count": 32,
          "metadata": {},
          "output_type": "execute_result"
        }
      ],
      "source": [
        "k.get()"
      ]
    },
    {
      "cell_type": "code",
      "execution_count": null,
      "metadata": {
        "colab": {
          "base_uri": "https://localhost:8080/",
          "height": 333
        },
        "id": "ahX_Pag7w2Wx",
        "outputId": "bb47da95-ffdd-40ad-d59d-3209fc921693"
      },
      "outputs": [
        {
          "ename": "AssertionError",
          "evalue": "ignored",
          "output_type": "error",
          "traceback": [
            "\u001b[0;31m---------------------------------------------------------------------------\u001b[0m",
            "\u001b[0;31mAssertionError\u001b[0m                            Traceback (most recent call last)",
            "\u001b[0;32m<ipython-input-5-e8ee2ab688c9>\u001b[0m in \u001b[0;36m<cell line: 1>\u001b[0;34m()\u001b[0m\n\u001b[0;32m----> 1\u001b[0;31m \u001b[0mk\u001b[0m \u001b[0;34m=\u001b[0m \u001b[0mKonwerter\u001b[0m\u001b[0;34m(\u001b[0m\u001b[0;36m16\u001b[0m\u001b[0;34m,\u001b[0m \u001b[0;34m\"G\"\u001b[0m\u001b[0;34m)\u001b[0m\u001b[0;34m\u001b[0m\u001b[0;34m\u001b[0m\u001b[0m\n\u001b[0m",
            "\u001b[0;32m<ipython-input-1-fad7b57af36e>\u001b[0m in \u001b[0;36m__init__\u001b[0;34m(self, system, value)\u001b[0m\n\u001b[1;32m      5\u001b[0m \u001b[0;34m\u001b[0m\u001b[0m\n\u001b[1;32m      6\u001b[0m     \u001b[0;32mdef\u001b[0m \u001b[0m__init__\u001b[0m\u001b[0;34m(\u001b[0m\u001b[0mself\u001b[0m\u001b[0;34m,\u001b[0m \u001b[0msystem\u001b[0m\u001b[0;34m:\u001b[0m \u001b[0mint\u001b[0m\u001b[0;34m,\u001b[0m \u001b[0mvalue\u001b[0m\u001b[0;34m:\u001b[0m \u001b[0;34m(\u001b[0m\u001b[0mstr\u001b[0m\u001b[0;34m,\u001b[0m \u001b[0mint\u001b[0m\u001b[0;34m)\u001b[0m\u001b[0;34m)\u001b[0m\u001b[0;34m:\u001b[0m\u001b[0;34m\u001b[0m\u001b[0;34m\u001b[0m\u001b[0m\n\u001b[0;32m----> 7\u001b[0;31m         \u001b[0mself\u001b[0m\u001b[0;34m.\u001b[0m\u001b[0mset\u001b[0m\u001b[0;34m(\u001b[0m\u001b[0msystem\u001b[0m\u001b[0;34m,\u001b[0m \u001b[0mvalue\u001b[0m\u001b[0;34m)\u001b[0m\u001b[0;34m\u001b[0m\u001b[0;34m\u001b[0m\u001b[0m\n\u001b[0m\u001b[1;32m      8\u001b[0m \u001b[0;34m\u001b[0m\u001b[0m\n\u001b[1;32m      9\u001b[0m     \u001b[0;32mdef\u001b[0m \u001b[0mdecode_digit\u001b[0m\u001b[0;34m(\u001b[0m\u001b[0mself\u001b[0m\u001b[0;34m,\u001b[0m \u001b[0mdigit\u001b[0m\u001b[0;34m:\u001b[0m \u001b[0mstr\u001b[0m\u001b[0;34m)\u001b[0m\u001b[0;34m:\u001b[0m\u001b[0;34m\u001b[0m\u001b[0;34m\u001b[0m\u001b[0m\n",
            "\u001b[0;32m<ipython-input-1-fad7b57af36e>\u001b[0m in \u001b[0;36mset\u001b[0;34m(self, system, value)\u001b[0m\n\u001b[1;32m     32\u001b[0m             \u001b[0;32massert\u001b[0m \u001b[0msystem\u001b[0m \u001b[0;34m<=\u001b[0m \u001b[0;36m10\u001b[0m\u001b[0;34m,\u001b[0m \u001b[0;34m\"System nie może być większy niż 10, gdy typ wartosci to int.\"\u001b[0m\u001b[0;34m\u001b[0m\u001b[0;34m\u001b[0m\u001b[0m\n\u001b[1;32m     33\u001b[0m             \u001b[0mvalue\u001b[0m \u001b[0;34m=\u001b[0m \u001b[0mstr\u001b[0m\u001b[0;34m(\u001b[0m\u001b[0mvalue\u001b[0m\u001b[0;34m)\u001b[0m\u001b[0;34m\u001b[0m\u001b[0;34m\u001b[0m\u001b[0m\n\u001b[0;32m---> 34\u001b[0;31m         \u001b[0;32massert\u001b[0m \u001b[0mall\u001b[0m\u001b[0;34m(\u001b[0m\u001b[0mself\u001b[0m\u001b[0;34m.\u001b[0m\u001b[0mdecode_digit\u001b[0m\u001b[0;34m(\u001b[0m\u001b[0mchar\u001b[0m\u001b[0;34m)\u001b[0m \u001b[0;34m<\u001b[0m \u001b[0msystem\u001b[0m \u001b[0;32mfor\u001b[0m \u001b[0mchar\u001b[0m \u001b[0;32min\u001b[0m \u001b[0mvalue\u001b[0m\u001b[0;34m)\u001b[0m\u001b[0;34m,\u001b[0m \u001b[0;34m\"Wartosc posiada znaki z poza systemu\"\u001b[0m\u001b[0;34m\u001b[0m\u001b[0;34m\u001b[0m\u001b[0m\n\u001b[0m\u001b[1;32m     35\u001b[0m         \u001b[0mself\u001b[0m\u001b[0;34m.\u001b[0m\u001b[0msystem\u001b[0m \u001b[0;34m=\u001b[0m \u001b[0msystem\u001b[0m\u001b[0;34m\u001b[0m\u001b[0;34m\u001b[0m\u001b[0m\n\u001b[1;32m     36\u001b[0m         \u001b[0mself\u001b[0m\u001b[0;34m.\u001b[0m\u001b[0mvalue\u001b[0m \u001b[0;34m=\u001b[0m \u001b[0mvalue\u001b[0m\u001b[0;34m\u001b[0m\u001b[0;34m\u001b[0m\u001b[0m\n",
            "\u001b[0;31mAssertionError\u001b[0m: Wartosc posiada znaki z poza systemu"
          ]
        }
      ],
      "source": [
        "k = Konwerter(16, \"G\")"
      ]
    },
    {
      "cell_type": "markdown",
      "metadata": {
        "id": "-lG28QSP_sWk"
      },
      "source": [
        "### Zadanie 2 [15]\n",
        "\n",
        "Napisz klasę `Winda` i dziedziczące po niej klasy `SzybkaWinda`, `TowarowaWinda`. Jedna z tych klas zawiera implementację metody `up` a druga jej nie ma. Schemat powinien zostać przygotwany w taki sposób, aby brak implementacji metody `up` w klasie pochodnej generował błąd. Jeżeli metoda jest zaimplementowana to otrzymujemy informację *jadę do góry*. Zaprezentuj funkcjonalność."
      ]
    },
    {
      "cell_type": "code",
      "execution_count": null,
      "metadata": {
        "id": "REemX3KotBYl"
      },
      "outputs": [],
      "source": [
        "class Winda():\n",
        "    def up(self):\n",
        "        raise NotImplementedError\n",
        "\n",
        "class SzybkaWinda(Winda):\n",
        "    def up(self):\n",
        "        print(\"jadę do góry\")\n",
        "\n",
        "class TowarowaWinda(Winda):\n",
        "    pass"
      ]
    },
    {
      "cell_type": "code",
      "execution_count": null,
      "metadata": {
        "colab": {
          "base_uri": "https://localhost:8080/",
          "height": 331
        },
        "id": "q6quGPEhw9tj",
        "outputId": "5bfccd07-e724-41ac-f6d8-cbc6f485acb4"
      },
      "outputs": [
        {
          "name": "stdout",
          "output_type": "stream",
          "text": [
            "jadę do góry\n"
          ]
        },
        {
          "ename": "NotImplementedError",
          "evalue": "ignored",
          "output_type": "error",
          "traceback": [
            "\u001b[0;31m---------------------------------------------------------------------------\u001b[0m",
            "\u001b[0;31mNotImplementedError\u001b[0m                       Traceback (most recent call last)",
            "\u001b[0;32m<ipython-input-7-ef84d9643d6f>\u001b[0m in \u001b[0;36m<cell line: 2>\u001b[0;34m()\u001b[0m\n\u001b[1;32m      1\u001b[0m \u001b[0mw\u001b[0m \u001b[0;34m=\u001b[0m \u001b[0mSzybkaWinda\u001b[0m\u001b[0;34m(\u001b[0m\u001b[0;34m)\u001b[0m\u001b[0;34m.\u001b[0m\u001b[0mup\u001b[0m\u001b[0;34m(\u001b[0m\u001b[0;34m)\u001b[0m\u001b[0;34m\u001b[0m\u001b[0;34m\u001b[0m\u001b[0m\n\u001b[0;32m----> 2\u001b[0;31m \u001b[0mw\u001b[0m \u001b[0;34m=\u001b[0m \u001b[0mTowarowaWinda\u001b[0m\u001b[0;34m(\u001b[0m\u001b[0;34m)\u001b[0m\u001b[0;34m.\u001b[0m\u001b[0mup\u001b[0m\u001b[0;34m(\u001b[0m\u001b[0;34m)\u001b[0m\u001b[0;34m\u001b[0m\u001b[0;34m\u001b[0m\u001b[0m\n\u001b[0m",
            "\u001b[0;32m<ipython-input-6-aac5d0e46153>\u001b[0m in \u001b[0;36mup\u001b[0;34m(self)\u001b[0m\n\u001b[1;32m      1\u001b[0m \u001b[0;32mclass\u001b[0m \u001b[0mWinda\u001b[0m\u001b[0;34m(\u001b[0m\u001b[0;34m)\u001b[0m\u001b[0;34m:\u001b[0m\u001b[0;34m\u001b[0m\u001b[0;34m\u001b[0m\u001b[0m\n\u001b[1;32m      2\u001b[0m     \u001b[0;32mdef\u001b[0m \u001b[0mup\u001b[0m\u001b[0;34m(\u001b[0m\u001b[0mself\u001b[0m\u001b[0;34m)\u001b[0m\u001b[0;34m:\u001b[0m\u001b[0;34m\u001b[0m\u001b[0;34m\u001b[0m\u001b[0m\n\u001b[0;32m----> 3\u001b[0;31m         \u001b[0;32mraise\u001b[0m \u001b[0mNotImplementedError\u001b[0m\u001b[0;34m\u001b[0m\u001b[0;34m\u001b[0m\u001b[0m\n\u001b[0m\u001b[1;32m      4\u001b[0m \u001b[0;34m\u001b[0m\u001b[0m\n\u001b[1;32m      5\u001b[0m \u001b[0;32mclass\u001b[0m \u001b[0mSzybkaWinda\u001b[0m\u001b[0;34m(\u001b[0m\u001b[0mWinda\u001b[0m\u001b[0;34m)\u001b[0m\u001b[0;34m:\u001b[0m\u001b[0;34m\u001b[0m\u001b[0;34m\u001b[0m\u001b[0m\n",
            "\u001b[0;31mNotImplementedError\u001b[0m: "
          ]
        }
      ],
      "source": [
        "w = SzybkaWinda().up()\n",
        "w = TowarowaWinda().up()"
      ]
    },
    {
      "cell_type": "markdown",
      "metadata": {
        "id": "dnhCXE1pt89z"
      },
      "source": [
        "### Zadanie 3 [30]\n",
        "\n",
        "Napisz iterator, który wyznaczy nie więcej niż 55  elementów ciągu $a_n = 2n^2 + 4n - 3$.\n",
        "\n",
        "Wykorzystaj trzy metody\n",
        "\n",
        "    klasę (iter, next) [8pkt]\n",
        "    generator - funkcję z yield [8pkt]\n",
        "    wyrażenie generujące (...), [8pkt]\n",
        "    docstring [3 pkt], testy [3 pkt]\n",
        "\n",
        "Użytkownik może generować elementy tak długo jak podaje odpowiedź - następny -> Tak\n"
      ]
    },
    {
      "cell_type": "code",
      "execution_count": 1,
      "metadata": {
        "colab": {
          "base_uri": "https://localhost:8080/"
        },
        "id": "8TUAGj0Cw_Mw",
        "outputId": "9f996941-b417-42b7-addb-1414c25b1054"
      },
      "outputs": [
        {
          "name": "stdout",
          "output_type": "stream",
          "text": [
            "3\n",
            "Następny? (Tak/Nie): tak\n",
            "13\n",
            "Następny? (Tak/Nie): tak\n",
            "27\n",
            "Następny? (Tak/Nie): nie\n"
          ]
        }
      ],
      "source": [
        "class Iterator:\n",
        "    '''\n",
        "\n",
        "    Klasa Iterator, która wyznacza kolejne elementy ciagu od 1 do 55, przerywa dzialanie w momencie gdy liczba iteracji przekroczy 55.\n",
        "\n",
        "    '''\n",
        "    def __init__(self):\n",
        "        self.n = 1\n",
        "        self.max = 55\n",
        "\n",
        "    def __iter__(self):\n",
        "        return self\n",
        "\n",
        "    def __next__(self):\n",
        "        if self.n > self.max:\n",
        "            raise StopIteration\n",
        "        else:\n",
        "            result = 2 * self.n ** 2 + 4 * self.n - 3\n",
        "            self.n += 1\n",
        "            return result\n",
        "\n",
        "\n",
        "\n",
        "def generator():\n",
        "    '''\n",
        "\n",
        "    Generator, który tworzy elementy ciagu a_n = 2n^2 + 4n - 3, wyznaczając max 55 elementów.\n",
        "\n",
        "    '''\n",
        "    n = 1\n",
        "    limit = 55\n",
        "    while n <= limit:\n",
        "        yield 2 * n ** 2 + 4 * n - 3\n",
        "        n += 1\n",
        "\n",
        "wyrazenie_generujace = (2 * n ** 2 + 4 * n - 3 for n in range(1, 56))\n",
        "\n",
        "for value in Iterator():\n",
        "    print(value)\n",
        "    answer = input(\"Następny? (Tak/Nie): \")\n",
        "    if answer.lower() != \"tak\":\n",
        "        break"
      ]
    },
    {
      "cell_type": "markdown",
      "metadata": {
        "id": "r1cI2j78xX9t"
      },
      "source": [
        "### Zadanie 4 Dekorator [25]\n",
        "Napisz 2 funkcje\n",
        "- pierwszą, która wczytuje i zwraca zawartość pliku tekstowego do zmiennej, nazwa pliku powinna być podana jako argument [8]\n",
        "- drugą, która jest dekoratorem i pozwoli przeczytać plik tylko jeżeli jego nazwa rozpoczyna się na literę *a* lub *A* i kończy się na literę *z* (tylko mała litera) [12] Testy wykonaj 5 dla różnych sytuacji ale przynajmniej raz uzyskaj odmowę dostepu [5]"
      ]
    },
    {
      "cell_type": "code",
      "execution_count": null,
      "metadata": {
        "id": "rRzc6usAt8j5"
      },
      "outputs": [],
      "source": [
        "def gatekeeper(fun):\n",
        "    \"\"\"\n",
        "\n",
        "    Funkcja, która jest dekoratorem i odpowiada za sprawdzenie czy plik przechodzi testy jego nazwy.\n",
        "\n",
        "    \"\"\"\n",
        "    def decorator(f_name: str):\n",
        "        name, _ = f_name.split('.')\n",
        "        assert(name.startswith(('A', 'a')))\n",
        "        assert(name.endswith('z'))\n",
        "        return fun(f_name)\n",
        "    return decorator\n",
        "\n",
        "\n",
        "@gatekeeper\n",
        "def open_txt(f_name):\n",
        "    \"\"\"\n",
        "\n",
        "    Funkcja odpowiada za zwrócenie zawartości pliku tekstowego o podanej nazwie.\n",
        "\n",
        "    INPUT:(str)\n",
        "    OUTPUT:(str)\n",
        "\n",
        "    \"\"\"\n",
        "    with open(f_name, \"r\") as f:\n",
        "        txt = f.read()\n",
        "    return txt"
      ]
    },
    {
      "cell_type": "code",
      "execution_count": null,
      "metadata": {
        "colab": {
          "base_uri": "https://localhost:8080/"
        },
        "id": "e2h3cKYJxP4j",
        "outputId": "3d3b9cf4-a4d6-43e9-9be5-0ab6333ee349"
      },
      "outputs": [
        {
          "name": "stdout",
          "output_type": "stream",
          "text": [
            "Wprowadź tekst: asd\n",
            "zapisano:  4 znaków\n"
          ]
        }
      ],
      "source": [
        "plik = open(\"Adz.txt\", \"a\")\n",
        "if plik.writable():\n",
        "  napis = plik.write(input(\"Wprowadź tekst: \") + \"\\n\")\n",
        "  print(\"zapisano: \", napis, \"znaków\")\n",
        "plik.close()"
      ]
    },
    {
      "cell_type": "code",
      "execution_count": null,
      "metadata": {
        "colab": {
          "base_uri": "https://localhost:8080/"
        },
        "id": "LKcBDQIYxTn3",
        "outputId": "41f38a04-16a4-4b43-b4ea-c77a59e697e1"
      },
      "outputs": [
        {
          "name": "stdout",
          "output_type": "stream",
          "text": [
            "Wprowadź tekst: aaaa\n",
            "zapisano:  5 znaków\n"
          ]
        }
      ],
      "source": [
        "plik = open(\"ada.txt\", \"a\")\n",
        "if plik.writable():\n",
        "  napis = plik.write(input(\"Wprowadź tekst: \") + \"\\n\")\n",
        "  print(\"zapisano: \", napis, \"znaków\")\n",
        "plik.close()"
      ]
    },
    {
      "cell_type": "code",
      "execution_count": null,
      "metadata": {
        "colab": {
          "base_uri": "https://localhost:8080/"
        },
        "id": "7x2H90WfxURm",
        "outputId": "6dfc07ff-12bd-458b-efac-68933ebdc2ef"
      },
      "outputs": [
        {
          "name": "stdout",
          "output_type": "stream",
          "text": [
            "Wprowadź tekst: 1234wd\n",
            "zapisano:  7 znaków\n"
          ]
        }
      ],
      "source": [
        "plik = open(\"addddz.txt\", \"a\")\n",
        "if plik.writable():\n",
        "  napis = plik.write(input(\"Wprowadź tekst: \") + \"\\n\")\n",
        "  print(\"zapisano: \", napis, \"znaków\")\n",
        "plik.close()"
      ]
    },
    {
      "cell_type": "code",
      "execution_count": null,
      "metadata": {
        "colab": {
          "base_uri": "https://localhost:8080/"
        },
        "id": "Gm8-NT-IxY2d",
        "outputId": "57221588-9bcf-425a-e72c-401384e0135a"
      },
      "outputs": [
        {
          "name": "stdout",
          "output_type": "stream",
          "text": [
            "Wprowadź tekst: 23sfsf\n",
            "zapisano:  7 znaków\n"
          ]
        }
      ],
      "source": [
        "plik = open(\"martz.txt\", \"a\")\n",
        "if plik.writable():\n",
        "  napis = plik.write(input(\"Wprowadź tekst: \") + \"\\n\")\n",
        "  print(\"zapisano: \", napis, \"znaków\")\n",
        "plik.close()"
      ]
    },
    {
      "cell_type": "code",
      "execution_count": null,
      "metadata": {
        "colab": {
          "base_uri": "https://localhost:8080/"
        },
        "id": "_273QwtzxbSu",
        "outputId": "2a3e2e02-7fa1-4602-a2af-0fb98e19fedd"
      },
      "outputs": [
        {
          "name": "stdout",
          "output_type": "stream",
          "text": [
            "Wprowadź tekst: 32rds\n",
            "zapisano:  6 znaków\n"
          ]
        }
      ],
      "source": [
        "plik = open(\"amadiz.txt\", \"a\")\n",
        "if plik.writable():\n",
        "  napis = plik.write(input(\"Wprowadź tekst: \") + \"\\n\")\n",
        "  print(\"zapisano: \", napis, \"znaków\")\n",
        "plik.close()"
      ]
    },
    {
      "cell_type": "code",
      "execution_count": null,
      "metadata": {
        "colab": {
          "base_uri": "https://localhost:8080/",
          "height": 36
        },
        "id": "poHn8Qwjxf-K",
        "outputId": "0dc379b3-a065-4497-d747-0b336b3e560d"
      },
      "outputs": [
        {
          "data": {
            "application/vnd.google.colaboratory.intrinsic+json": {
              "type": "string"
            },
            "text/plain": [
              "'32rds\\n'"
            ]
          },
          "execution_count": 16,
          "metadata": {},
          "output_type": "execute_result"
        }
      ],
      "source": [
        "open_txt('amadiz.txt')"
      ]
    },
    {
      "cell_type": "code",
      "execution_count": null,
      "metadata": {
        "colab": {
          "base_uri": "https://localhost:8080/",
          "height": 297
        },
        "id": "i2licgjfxghl",
        "outputId": "dc47f523-6a27-4de0-9457-e0378e9d1977"
      },
      "outputs": [
        {
          "ename": "AssertionError",
          "evalue": "ignored",
          "output_type": "error",
          "traceback": [
            "\u001b[0;31m---------------------------------------------------------------------------\u001b[0m",
            "\u001b[0;31mAssertionError\u001b[0m                            Traceback (most recent call last)",
            "\u001b[0;32m<ipython-input-17-04a9ef312c44>\u001b[0m in \u001b[0;36m<cell line: 1>\u001b[0;34m()\u001b[0m\n\u001b[0;32m----> 1\u001b[0;31m \u001b[0mopen_txt\u001b[0m\u001b[0;34m(\u001b[0m\u001b[0;34m'martz.txt'\u001b[0m\u001b[0;34m)\u001b[0m\u001b[0;34m\u001b[0m\u001b[0;34m\u001b[0m\u001b[0m\n\u001b[0m",
            "\u001b[0;32m<ipython-input-10-6b342a37a1ce>\u001b[0m in \u001b[0;36mdecorator\u001b[0;34m(f_name)\u001b[0m\n\u001b[1;32m      7\u001b[0m     \u001b[0;32mdef\u001b[0m \u001b[0mdecorator\u001b[0m\u001b[0;34m(\u001b[0m\u001b[0mf_name\u001b[0m\u001b[0;34m:\u001b[0m \u001b[0mstr\u001b[0m\u001b[0;34m)\u001b[0m\u001b[0;34m:\u001b[0m\u001b[0;34m\u001b[0m\u001b[0;34m\u001b[0m\u001b[0m\n\u001b[1;32m      8\u001b[0m         \u001b[0mname\u001b[0m\u001b[0;34m,\u001b[0m \u001b[0m_\u001b[0m \u001b[0;34m=\u001b[0m \u001b[0mf_name\u001b[0m\u001b[0;34m.\u001b[0m\u001b[0msplit\u001b[0m\u001b[0;34m(\u001b[0m\u001b[0;34m'.'\u001b[0m\u001b[0;34m)\u001b[0m\u001b[0;34m\u001b[0m\u001b[0;34m\u001b[0m\u001b[0m\n\u001b[0;32m----> 9\u001b[0;31m         \u001b[0;32massert\u001b[0m\u001b[0;34m(\u001b[0m\u001b[0mname\u001b[0m\u001b[0;34m.\u001b[0m\u001b[0mstartswith\u001b[0m\u001b[0;34m(\u001b[0m\u001b[0;34m(\u001b[0m\u001b[0;34m'A'\u001b[0m\u001b[0;34m,\u001b[0m \u001b[0;34m'a'\u001b[0m\u001b[0;34m)\u001b[0m\u001b[0;34m)\u001b[0m\u001b[0;34m)\u001b[0m\u001b[0;34m\u001b[0m\u001b[0;34m\u001b[0m\u001b[0m\n\u001b[0m\u001b[1;32m     10\u001b[0m         \u001b[0;32massert\u001b[0m\u001b[0;34m(\u001b[0m\u001b[0mname\u001b[0m\u001b[0;34m.\u001b[0m\u001b[0mendswith\u001b[0m\u001b[0;34m(\u001b[0m\u001b[0;34m'z'\u001b[0m\u001b[0;34m)\u001b[0m\u001b[0;34m)\u001b[0m\u001b[0;34m\u001b[0m\u001b[0;34m\u001b[0m\u001b[0m\n\u001b[1;32m     11\u001b[0m         \u001b[0;32mreturn\u001b[0m \u001b[0mfun\u001b[0m\u001b[0;34m(\u001b[0m\u001b[0mf_name\u001b[0m\u001b[0;34m)\u001b[0m\u001b[0;34m\u001b[0m\u001b[0;34m\u001b[0m\u001b[0m\n",
            "\u001b[0;31mAssertionError\u001b[0m: "
          ]
        }
      ],
      "source": [
        "open_txt('martz.txt')"
      ]
    },
    {
      "cell_type": "code",
      "execution_count": null,
      "metadata": {
        "colab": {
          "base_uri": "https://localhost:8080/",
          "height": 36
        },
        "id": "cXge8GryxjEz",
        "outputId": "2e6030fb-ce93-43fe-aca6-a08ad7021d80"
      },
      "outputs": [
        {
          "data": {
            "application/vnd.google.colaboratory.intrinsic+json": {
              "type": "string"
            },
            "text/plain": [
              "'1234wd\\n'"
            ]
          },
          "execution_count": 18,
          "metadata": {},
          "output_type": "execute_result"
        }
      ],
      "source": [
        "open_txt('addddz.txt')"
      ]
    },
    {
      "cell_type": "code",
      "execution_count": null,
      "metadata": {
        "colab": {
          "base_uri": "https://localhost:8080/",
          "height": 297
        },
        "id": "ck7RvsX5xk6L",
        "outputId": "d44432c8-02c6-47ac-ffc5-d2cd4ae97e67"
      },
      "outputs": [
        {
          "ename": "AssertionError",
          "evalue": "ignored",
          "output_type": "error",
          "traceback": [
            "\u001b[0;31m---------------------------------------------------------------------------\u001b[0m",
            "\u001b[0;31mAssertionError\u001b[0m                            Traceback (most recent call last)",
            "\u001b[0;32m<ipython-input-19-1cfcb5b25059>\u001b[0m in \u001b[0;36m<cell line: 1>\u001b[0;34m()\u001b[0m\n\u001b[0;32m----> 1\u001b[0;31m \u001b[0mopen_txt\u001b[0m\u001b[0;34m(\u001b[0m\u001b[0;34m'ada.txt'\u001b[0m\u001b[0;34m)\u001b[0m\u001b[0;34m\u001b[0m\u001b[0;34m\u001b[0m\u001b[0m\n\u001b[0m",
            "\u001b[0;32m<ipython-input-10-6b342a37a1ce>\u001b[0m in \u001b[0;36mdecorator\u001b[0;34m(f_name)\u001b[0m\n\u001b[1;32m      8\u001b[0m         \u001b[0mname\u001b[0m\u001b[0;34m,\u001b[0m \u001b[0m_\u001b[0m \u001b[0;34m=\u001b[0m \u001b[0mf_name\u001b[0m\u001b[0;34m.\u001b[0m\u001b[0msplit\u001b[0m\u001b[0;34m(\u001b[0m\u001b[0;34m'.'\u001b[0m\u001b[0;34m)\u001b[0m\u001b[0;34m\u001b[0m\u001b[0;34m\u001b[0m\u001b[0m\n\u001b[1;32m      9\u001b[0m         \u001b[0;32massert\u001b[0m\u001b[0;34m(\u001b[0m\u001b[0mname\u001b[0m\u001b[0;34m.\u001b[0m\u001b[0mstartswith\u001b[0m\u001b[0;34m(\u001b[0m\u001b[0;34m(\u001b[0m\u001b[0;34m'A'\u001b[0m\u001b[0;34m,\u001b[0m \u001b[0;34m'a'\u001b[0m\u001b[0;34m)\u001b[0m\u001b[0;34m)\u001b[0m\u001b[0;34m)\u001b[0m\u001b[0;34m\u001b[0m\u001b[0;34m\u001b[0m\u001b[0m\n\u001b[0;32m---> 10\u001b[0;31m         \u001b[0;32massert\u001b[0m\u001b[0;34m(\u001b[0m\u001b[0mname\u001b[0m\u001b[0;34m.\u001b[0m\u001b[0mendswith\u001b[0m\u001b[0;34m(\u001b[0m\u001b[0;34m'z'\u001b[0m\u001b[0;34m)\u001b[0m\u001b[0;34m)\u001b[0m\u001b[0;34m\u001b[0m\u001b[0;34m\u001b[0m\u001b[0m\n\u001b[0m\u001b[1;32m     11\u001b[0m         \u001b[0;32mreturn\u001b[0m \u001b[0mfun\u001b[0m\u001b[0;34m(\u001b[0m\u001b[0mf_name\u001b[0m\u001b[0;34m)\u001b[0m\u001b[0;34m\u001b[0m\u001b[0;34m\u001b[0m\u001b[0m\n\u001b[1;32m     12\u001b[0m     \u001b[0;32mreturn\u001b[0m \u001b[0mdecorator\u001b[0m\u001b[0;34m\u001b[0m\u001b[0;34m\u001b[0m\u001b[0m\n",
            "\u001b[0;31mAssertionError\u001b[0m: "
          ]
        }
      ],
      "source": [
        "open_txt('ada.txt')"
      ]
    },
    {
      "cell_type": "code",
      "execution_count": null,
      "metadata": {
        "colab": {
          "base_uri": "https://localhost:8080/",
          "height": 36
        },
        "id": "8l3dS3kTxmOr",
        "outputId": "8656684d-2e75-41e1-ec7a-ac487e28f89a"
      },
      "outputs": [
        {
          "data": {
            "application/vnd.google.colaboratory.intrinsic+json": {
              "type": "string"
            },
            "text/plain": [
              "'asd\\n'"
            ]
          },
          "execution_count": 20,
          "metadata": {},
          "output_type": "execute_result"
        }
      ],
      "source": [
        "open_txt('Adz.txt')"
      ]
    },
    {
      "cell_type": "code",
      "execution_count": null,
      "metadata": {
        "id": "xM1BIhQXxoOj"
      },
      "outputs": [],
      "source": [
        "#ZAD5\n",
        "'''ZADANIE 5 Klasy (30) \n",
        "Napisz klasy: osoba  (atrybuty: imie, nazwisko) i adres (osoba, miasto, ulica, numer domu). Zastosuj dziedziczenie lub zawieranie.'''\n"
      ]
    },
    {
      "cell_type": "code",
      "execution_count": 6,
      "metadata": {},
      "outputs": [
        {
          "name": "stdout",
          "output_type": "stream",
          "text": [
            "aLa\n",
            "Majcherczak\n",
            "Osoba o imieniu aLa i nazwisku Majcherczak\n",
            "Osoba(aLa Majcherczak)\n",
            "Podaj poprawne znaki\n",
            "Osoba(aLa Czarny)\n",
            "Osoba: aLa Czarny, mieszkająca w Psary, Kamienna 1M\n",
            "Imię: aLa, Nazwisko: Czarny, Miejscowość: Psary, Ulica: Kamienna, Nr domu: 1M\n",
            "Kamienna\n",
            "aLa\n",
            "1M\n",
            "Psary\n",
            "Osoba: aLa Czarny, mieszkająca w Płock, Krosna 1M\n"
          ]
        }
      ],
      "source": [
        "class Osoba:\n",
        "    '''\n",
        "        Klasa osoba reprezentujaca osobe\n",
        "        Args:\n",
        "            imie(str) - imie osoby\n",
        "            nazwisko(str) - nazwisko osoby\n",
        "        \n",
        "        Methods:\n",
        "            __init__ - przyjmuje zmienne imie i nazwisko, ktore sa pozniej wykorzystywane w klasie\n",
        "            __str__ - Zwraca łańcuch znaków opisujacy osobe\n",
        "            __repr__ - Zwraca łańcuch znaków opisujacy osobe w sposób przyjazny do debugowania\n",
        "        \n",
        "        Returns:\n",
        "         imie(str) - imie osoby\n",
        "         nazwisko(str) - nazwisko osoby\n",
        "            \n",
        "    '''\n",
        "    def __init__(self, imie, nazwisko):\n",
        "        self._imie = imie\n",
        "        self._nazwisko = nazwisko\n",
        "        \n",
        "    def __str__(self):\n",
        "        return f\"Osoba({self._imie} {self._nazwisko})\"\n",
        "\n",
        "    def __repr__(self):\n",
        "        return f\"Osoba o imieniu {self._imie} i nazwisku {self._nazwisko}\"\n",
        "\n",
        "    @property\n",
        "    def imie(self):\n",
        "        return self._imie\n",
        "\n",
        "    @imie.setter\n",
        "    def imie(self, value):\n",
        "        if isinstance(value, str):\n",
        "            self._imie = value\n",
        "        else:\n",
        "            raise ValueError(\"Podaj poprawne znaki\")\n",
        "\n",
        "    @property\n",
        "    def nazwisko(self):\n",
        "        return self._nazwisko\n",
        "\n",
        "    @nazwisko.setter\n",
        "    def nazwisko(self, value):\n",
        "        self._nazwisko = value\n",
        "\n",
        "\n",
        "class Adres(Osoba):\n",
        "    '''\n",
        "       Klasa Adres reprezentujaca miejsce zamieszkania konkretnej osoby\n",
        "        Args:\n",
        "            miasto(str) - miasto w którym mieszka osoba\n",
        "            ulica(str) - ulica na której mieszka osoba\n",
        "            numer domu(str) - numer domu w którym mieszka osoba\n",
        "            \n",
        "        Methods:\n",
        "            __init__ - przyjmuje zmienne miasto, ulica i numer domu, a także imie i nazwisko, ktore dziedziczy po klasie Osoba\n",
        "            __str__ - Zwraca lancuch znakow opisujacy osobe i jej miejsca zamieszkania\n",
        "            __repr__ - Zwraca lancuch znakow opisujacy osobe i jej miejsca zamieszkania w sposob przyjazny do debugowania\n",
        "            \n",
        "        Returns:\n",
        "          miasto(str) - miasto w którym mieszka osoba\n",
        "          ulica(str) - ulica na której mieszka osoba\n",
        "          numer domu(str) - numer domu w którym mieszka osoba\n",
        "          imie(str) - imie osoby\n",
        "          nazwisko(str) - nazwisko osoby\n",
        "        \n",
        "    '''\n",
        "    def __init__(self, miasto, ulica, numer_domu, imie, nazwisko):\n",
        "        super().__init__(imie, nazwisko)\n",
        "        self._miasto = miasto\n",
        "        self._ulica = ulica\n",
        "        self._numer_domu = numer_domu\n",
        "\n",
        "    def __str__(self):\n",
        "        return f\"Osoba: {self._imie} {self._nazwisko}, mieszkająca w {self._miasto}, {self._ulica} {self._numer_domu}\"\n",
        "\n",
        "    def __repr__(self):\n",
        "        return f\"Imię: {self._imie}, Nazwisko: {self._nazwisko}, Miejscowość: {self._miasto}, Ulica: {self._ulica}, Nr domu: {self._numer_domu}\"\n",
        "\n",
        "    @property\n",
        "    def miasto(self):\n",
        "        return self._miasto\n",
        "\n",
        "    @miasto.setter\n",
        "    def miasto(self, value):\n",
        "        self._miasto = value\n",
        "\n",
        "    @property\n",
        "    def ulica(self):\n",
        "        return self._ulica\n",
        "    \n",
        "    @ulica.setter\n",
        "    def ulica(self, value):\n",
        "        self._ulica = value\n",
        "\n",
        "    @property\n",
        "    def numer_domu(self):\n",
        "        return self._numer_domu\n",
        "\n",
        "    @numer_domu.setter\n",
        "    def numer_domu(self, value):\n",
        "        self._numer_domu = value\n",
        "\n",
        "\n",
        "osoba1 = Osoba(\"aLa\", \"Majcherczak\")\n",
        "print(osoba1.imie)\n",
        "print(osoba1.nazwisko)\n",
        "print(osoba1.__repr__())\n",
        "print(osoba1)\n",
        "try:\n",
        "    osoba1.imie = 1111\n",
        "except ValueError:\n",
        "    print(\"Podaj poprawne znaki\")\n",
        "osoba1.nazwisko = \"Czarny\"\n",
        "print(osoba1)\n",
        "\n",
        "adres1 = Adres(\"Psary\", \"Kamienna\", \"1M\", osoba1.imie, osoba1.nazwisko)\n",
        "print(adres1)\n",
        "print(adres1.__repr__())\n",
        "print(adres1.ulica)\n",
        "print(adres1.imie)\n",
        "print(adres1.numer_domu)\n",
        "print(adres1.miasto)\n",
        "adres1.miasto = \"Płock\"\n",
        "adres1.ulica = \"Krosna\"\n",
        "print(adres1)\n"
      ]
    }
  ],
  "metadata": {
    "colab": {
      "provenance": []
    },
    "kernelspec": {
      "display_name": "Python 3 (ipykernel)",
      "language": "python",
      "name": "python3"
    },
    "language_info": {
      "codemirror_mode": {
        "name": "ipython",
        "version": 3
      },
      "file_extension": ".py",
      "mimetype": "text/x-python",
      "name": "python",
      "nbconvert_exporter": "python",
      "pygments_lexer": "ipython3",
      "version": "3.10.11"
    }
  },
  "nbformat": 4,
  "nbformat_minor": 0
}
